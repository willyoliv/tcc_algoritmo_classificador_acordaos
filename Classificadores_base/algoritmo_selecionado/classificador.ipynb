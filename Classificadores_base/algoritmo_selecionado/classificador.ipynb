{
 "cells": [
  {
   "cell_type": "markdown",
   "id": "407de384",
   "metadata": {},
   "source": [
    "### Imports"
   ]
  },
  {
   "cell_type": "code",
   "execution_count": 1,
   "id": "8c1eaa37",
   "metadata": {},
   "outputs": [],
   "source": [
    "import spacy\n",
    "import re\n",
    "import numpy as np\n",
    "from joblib import dump, load\n",
    "import pickle"
   ]
  },
  {
   "cell_type": "markdown",
   "id": "6b4f4f02",
   "metadata": {},
   "source": [
    "### Loading model"
   ]
  },
  {
   "cell_type": "code",
   "execution_count": 2,
   "id": "0596ce4e",
   "metadata": {},
   "outputs": [],
   "source": [
    "def removerStopWords(ementa):\n",
    "    nlp = spacy.load('pt_core_news_lg')\n",
    "    texto = \"\"\n",
    "    texto = re.sub(u'[^a-zA-Z0-9áéíóúÁÉÍÓÚâêîôÂÊÎÔãõÃÕçÇ: ]', ' ', ementa)\n",
    "    doc = nlp(texto)\n",
    "    text_aux = []\n",
    "    for token in doc:\n",
    "        if token.is_stop == False and token.is_digit == False and token.is_space == False and token.like_num == False:\n",
    "            text_aux.append(token.text.lower()) \n",
    "    return \" \".join(text_aux)"
   ]
  },
  {
   "cell_type": "code",
   "execution_count": 3,
   "id": "50c18551",
   "metadata": {},
   "outputs": [],
   "source": [
    "a = removerStopWords(\"ementa licitação decreto de emergência ausente da caracterização da situação de emergência ou de calamidade pública procedência 1 a aplicabilidade do art 24 iv da lei n 8 666 93 tem como pressuposto elementar que a situação adversa dada como de emergência ou de calamidade pública não se tenha originado total ou parcialmente da falta de planejamento da desídia administrativa ou da má gestão dos recursos disponíveis tcu decisão n 347 94 ou que falta de planejamento do administrador não é capaz de justificar a contratação emergencial tcu acórdão 771 05\")"
   ]
  },
  {
   "cell_type": "code",
   "execution_count": 4,
   "id": "5765b9f2",
   "metadata": {},
   "outputs": [
    {
     "name": "stdout",
     "output_type": "stream",
     "text": [
      "ementa licitação decreto emergência ausente caracterização situação emergência calamidade pública procedência aplicabilidade art iv lei n pressuposto elementar situação adversa dada emergência calamidade pública tenha originado total parcialmente planejamento desídia administrativa má gestão recursos disponíveis tcu decisão n planejamento administrador capaz justificar contratação emergencial tcu acórdão\n"
     ]
    }
   ],
   "source": [
    "print(a)"
   ]
  },
  {
   "cell_type": "code",
   "execution_count": 6,
   "id": "b21e5e4c",
   "metadata": {},
   "outputs": [
    {
     "name": "stdout",
     "output_type": "stream",
     "text": [
      "[[0.00432146 0.4207544  0.04795668 0.30669798 0.10682076 0.02674521\n",
      "  0.01699645 0.01194306 0.04268579 0.0150782 ]]\n",
      "['AGENTE POLITICO' 'CONTRATO' 'DESPESA' 'LICITACAO' 'OUTROS' 'PESSOAL'\n",
      " 'PRESTACAO DE CONTAS' 'PREVIDENCIA' 'PROCESSUAL' 'RESPONSABILIDADE']\n"
     ]
    }
   ],
   "source": [
    "pipeline = pickle.load(open('pipeline.pickle', 'rb'))\n",
    "y = []\n",
    "y.append(a)\n",
    "print(pipeline.predict_proba(y))\n",
    "print(pipeline.classes_)"
   ]
  },
  {
   "cell_type": "code",
   "execution_count": null,
   "id": "9c5f15f2",
   "metadata": {},
   "outputs": [],
   "source": []
  }
 ],
 "metadata": {
  "kernelspec": {
   "display_name": "Python 3 (ipykernel)",
   "language": "python",
   "name": "python3"
  },
  "language_info": {
   "codemirror_mode": {
    "name": "ipython",
    "version": 3
   },
   "file_extension": ".py",
   "mimetype": "text/x-python",
   "name": "python",
   "nbconvert_exporter": "python",
   "pygments_lexer": "ipython3",
   "version": "3.9.7"
  }
 },
 "nbformat": 4,
 "nbformat_minor": 5
}
