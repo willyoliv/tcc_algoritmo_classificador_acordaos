{
 "cells": [
  {
   "cell_type": "markdown",
   "id": "407de384",
   "metadata": {},
   "source": [
    "### Imports"
   ]
  },
  {
   "cell_type": "code",
   "execution_count": 61,
   "id": "8c1eaa37",
   "metadata": {},
   "outputs": [],
   "source": [
    "import spacy\n",
    "import re\n",
    "import numpy as np\n",
    "import pickle\n",
    "from numpy import array"
   ]
  },
  {
   "cell_type": "markdown",
   "id": "6b4f4f02",
   "metadata": {},
   "source": [
    "### Funções"
   ]
  },
  {
   "cell_type": "code",
   "execution_count": 39,
   "id": "0596ce4e",
   "metadata": {},
   "outputs": [],
   "source": [
    "def removerStopWords(ementa):\n",
    "    nlp = spacy.load('pt_core_news_lg')\n",
    "    texto = \"\"\n",
    "    texto = re.sub(u'[^a-zA-Z0-9áéíóúÁÉÍÓÚâêîôÂÊÎÔãõÃÕçÇ: ]', ' ', ementa)\n",
    "    doc = nlp(texto)\n",
    "    text_aux = []\n",
    "    for token in doc:\n",
    "        if token.is_stop == False and token.is_digit == False and token.is_space == False and token.like_num == False:\n",
    "            text_aux.append(token.text.lower()) \n",
    "    return \" \".join(text_aux)"
   ]
  },
  {
   "cell_type": "code",
   "execution_count": 62,
   "id": "50de3067",
   "metadata": {},
   "outputs": [],
   "source": [
    "def classificarTexto(texto):\n",
    "    pipeline = pickle.load(open('pipeline.pickle', 'rb'))\n",
    "    textos = []\n",
    "    textos.append(texto)\n",
    "    values_list = pipeline.predict_proba(textos)[0]\n",
    "    keys_list = pipeline.classes_\n",
    "    zip_iterator = zip(keys_list, values_list)\n",
    "    resultado = dict(zip_iterator)\n",
    "    return resultado"
   ]
  },
  {
   "cell_type": "code",
   "execution_count": 66,
   "id": "50c18551",
   "metadata": {},
   "outputs": [],
   "source": [
    "texto = removerStopWords(\"ementa licitação decreto de emergência ausente da caracterização da situação de emergência ou de calamidade pública procedência 1 a aplicabilidade do art 24 iv da lei n 8 666 93 tem como pressuposto elementar que a situação adversa dada como de emergência ou de calamidade pública não se tenha originado total ou parcialmente da falta de planejamento da desídia administrativa ou da má gestão dos recursos disponíveis tcu decisão n 347 94 ou que falta de planejamento do administrador não é capaz de justificar a contratação emergencial tcu acórdão 771 05\")"
   ]
  },
  {
   "cell_type": "code",
   "execution_count": 67,
   "id": "5765b9f2",
   "metadata": {},
   "outputs": [
    {
     "name": "stdout",
     "output_type": "stream",
     "text": [
      "ementa licitação decreto emergência ausente caracterização situação emergência calamidade pública procedência aplicabilidade art iv lei n pressuposto elementar situação adversa dada emergência calamidade pública tenha originado total parcialmente planejamento desídia administrativa má gestão recursos disponíveis tcu decisão n planejamento administrador capaz justificar contratação emergencial tcu acórdão\n"
     ]
    }
   ],
   "source": [
    "print(texto)"
   ]
  },
  {
   "cell_type": "code",
   "execution_count": 68,
   "id": "4a737571",
   "metadata": {},
   "outputs": [],
   "source": [
    "resultado = classificarTexto(texto)"
   ]
  },
  {
   "cell_type": "code",
   "execution_count": 69,
   "id": "b459349b",
   "metadata": {},
   "outputs": [
    {
     "name": "stdout",
     "output_type": "stream",
     "text": [
      "{'AGENTE POLITICO': 0.004321463846924372, 'CONTRATO': 0.42075439657923186, 'DESPESA': 0.04795668363989052, 'LICITACAO': 0.30669798219217465, 'OUTROS': 0.10682076333908734, 'PESSOAL': 0.02674520699587718, 'PRESTACAO DE CONTAS': 0.01699644772653823, 'PREVIDENCIA': 0.011943064028830263, 'PROCESSUAL': 0.042685789935581454, 'RESPONSABILIDADE': 0.015078201715864267}\n"
     ]
    }
   ],
   "source": [
    "print(resultado)"
   ]
  },
  {
   "cell_type": "code",
   "execution_count": null,
   "id": "5777e247",
   "metadata": {},
   "outputs": [],
   "source": []
  }
 ],
 "metadata": {
  "kernelspec": {
   "display_name": "Python 3 (ipykernel)",
   "language": "python",
   "name": "python3"
  },
  "language_info": {
   "codemirror_mode": {
    "name": "ipython",
    "version": 3
   },
   "file_extension": ".py",
   "mimetype": "text/x-python",
   "name": "python",
   "nbconvert_exporter": "python",
   "pygments_lexer": "ipython3",
   "version": "3.9.7"
  }
 },
 "nbformat": 4,
 "nbformat_minor": 5
}
