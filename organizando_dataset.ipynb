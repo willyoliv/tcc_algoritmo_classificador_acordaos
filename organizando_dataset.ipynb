{
 "cells": [
  {
   "cell_type": "code",
   "execution_count": 1,
   "id": "03e73785",
   "metadata": {},
   "outputs": [],
   "source": [
    "import numpy as np\n",
    "import pandas as pd\n",
    "import spacy\n",
    "import re\n",
    "from sklearn.model_selection import train_test_split"
   ]
  },
  {
   "cell_type": "code",
   "execution_count": 2,
   "id": "861a9317",
   "metadata": {},
   "outputs": [
    {
     "data": {
      "text/plain": [
       "LICITACAO              122\n",
       "PESSOAL                118\n",
       "OUTROS                 106\n",
       "DESPESA                 65\n",
       "PROCESSUAL              62\n",
       "PRESTACAO DE CONTAS     46\n",
       "CONTRATO                43\n",
       "PREVIDENCIA             35\n",
       "AGENTE POLITICO         31\n",
       "RESPONSABILIDADE        24\n",
       "Name: assunto_agrupado, dtype: int64"
      ]
     },
     "execution_count": 2,
     "metadata": {},
     "output_type": "execute_result"
    }
   ],
   "source": [
    "data = pd.read_csv (r'C:\\Users\\willy\\Desktop\\TCC_classificador\\dados\\tcepi_decisoes_ate_10_2020.csv', sep=\";\")   \n",
    "df = pd.DataFrame(data, columns= ['ementa','assunto_agrupado'])\n",
    "dfLicitacao = df.loc[df['assunto_agrupado'] == \"LICITACAO\"] \n",
    "dfPessoal = df.loc[df['assunto_agrupado'] == \"PESSOAL\"]\n",
    "dfOutros = df.loc[df['assunto_agrupado'] == \"OUTROS\"]\n",
    "dfDespesa = df.loc[df['assunto_agrupado'] == \"DESPESA\"]\n",
    "dfProcessual = df.loc[df['assunto_agrupado'] == \"PROCESSUAL\"]\n",
    "dfPrestacaoDeContas = df.loc[df['assunto_agrupado'] == \"PRESTACAO DE CONTAS\"]\n",
    "dfContrato = df.loc[df['assunto_agrupado'] == \"CONTRATO\"]\n",
    "dfPrevidencia = df.loc[df['assunto_agrupado'] == \"PREVIDENCIA\"]\n",
    "dfAgentePolitico = df.loc[df['assunto_agrupado'] == \"AGENTE POLITICO\"]\n",
    "dfResponsabilidade = df.loc[df['assunto_agrupado'] == \"RESPONSABILIDADE\"]\n",
    "\n",
    "df['assunto_agrupado'].value_counts()"
   ]
  },
  {
   "cell_type": "code",
   "execution_count": 33,
   "id": "6310d377",
   "metadata": {},
   "outputs": [],
   "source": [
    "dfLicitacaoTrain, dfLicitacaoTest = train_test_split(dfLicitacao, test_size = 0.2, random_state=0)\n",
    "dfPessoalTrain, dfPessoalTest = train_test_split(dfPessoal, test_size = 0.2, random_state=0)\n",
    "dfOutrosTrain, dfOutrosTest = train_test_split(dfOutros, test_size = 0.2, random_state=0)\n",
    "dfDespesaTrain, dfDespesaTest = train_test_split(dfDespesa, test_size = 0.2, random_state=0)\n",
    "dfProcessualTrain, dfProcessualTest = train_test_split(dfProcessual, test_size = 0.2, random_state=0)\n",
    "dfPrestacaoDeContasTrain, dfPrestacaoDeContasTest = train_test_split(dfPrestacaoDeContas, test_size = 0.2, random_state=0)\n",
    "dfContratoTrain, dfContratoTest = train_test_split(dfContrato, test_size = 0.2, random_state=0)\n",
    "dfPrevidenciaTrain, dfPrevidenciaTest = train_test_split(dfPrevidencia, test_size = 0.2, random_state=0)\n",
    "dfAgentePoliticoTrain, dfAgentePoliticoTest = train_test_split(dfAgentePolitico, test_size = 0.2, random_state=0)\n",
    "dfResponsabilidadeTrain, dfResponsabilidadeTest = train_test_split(dfResponsabilidade, test_size = 0.2, random_state=0)"
   ]
  },
  {
   "cell_type": "code",
   "execution_count": 35,
   "id": "4aedeabc",
   "metadata": {},
   "outputs": [
    {
     "name": "stdout",
     "output_type": "stream",
     "text": [
      "                                                ementa assunto_agrupado\n",
      "536  DENÚNCIA. IRREGULARIDADES EM EXPEDIÇÃO DE PORT...        LICITACAO\n",
      "437  EMENTA. PROCESSUAL. LICITAÇÃO. IRREGULARIDADE....        LICITACAO\n",
      "499  DENÚNCIA. LICITAÇÃO. IRREGULARIDADES. \\nA comi...        LICITACAO\n",
      "497  DENÚNCIA. PREGÃO PRESENCIAL. CONTRADIÇÃO QUANT...        LICITACAO\n",
      "450  PRESTAÇÃO DE CONTAS. IRREGULARIDADES NO PREGÃO...        LICITACAO\n",
      "..                                                 ...              ...\n",
      "491  IRREGULARIDADES NA CONDUÇÃO DA LICITAÇÃO (TOMA...        LICITACAO\n",
      "488  PLANEJAMENTO. DESCUMPRIMENTO DE LIMTIES E INDI...        LICITACAO\n",
      "541  LICITAÇÃO. IREEGULARIDADE NO CADASTRAMENTO DO ...        LICITACAO\n",
      "471  LICITAÇÃO. IRREGULARIDADES EM PROCESSOS LICITA...        LICITACAO\n",
      "468  EMENTA. LICITAÇÃO. IRREGULARIDADES EM PREGÃO P...        LICITACAO\n",
      "\n",
      "[97 rows x 2 columns]\n",
      "                                                ementa assunto_agrupado\n",
      "415  DESPESA. DESPESAS COM PESSOAL DO PODER EXECUTI...          PESSOAL\n",
      "319  PESSOAL. EDITAL DE PROCESSO SELETIVO. AUSÊNCIA...          PESSOAL\n",
      "369  Pedido de Reexame - Pensão. Recomendação. Grat...          PESSOAL\n",
      "377  EMENTA: CONTRATAÇÃO IRREGULAR DE PESSOAL.\\n5. ...          PESSOAL\n",
      "332  DENÚNCIA. PESSOAL. DESVIO DE FUNÇÃO. USO INDEV...          PESSOAL\n",
      "..                                                 ...              ...\n",
      "420  PESSOAL. CONCURSO PÚBLICO. LEGALIDADE. REGISTR...          PESSOAL\n",
      "373  ACUMULAÇÃO REMUNERADA DE CARGOS PÚBLICOS SEM O...          PESSOAL\n",
      "370  Pedido de Reexame - Pensão. Recomendação. Grat...          PESSOAL\n",
      "353  ATOS SUJEITOS A REGISTRO. AMISSÃO DE PESSOAL. ...          PESSOAL\n",
      "350  ATOS SUJEITOS A REGISTRO. APOSENTADORIA POR IN...          PESSOAL\n",
      "\n",
      "[94 rows x 2 columns]\n"
     ]
    }
   ],
   "source": [
    "print(dfLicitacaoTrain)\n",
    "print(dfPessoalTrain)"
   ]
  },
  {
   "cell_type": "code",
   "execution_count": 39,
   "id": "8150a375",
   "metadata": {},
   "outputs": [],
   "source": [
    "framesTrain = [dfLicitacaoTrain, dfPessoalTrain, dfOutrosTrain, dfDespesaTrain, dfProcessualTrain, dfPrestacaoDeContasTrain, dfContratoTrain, dfPrevidenciaTrain, dfAgentePoliticoTrain, dfResponsabilidadeTrain]\n",
    "framesTest = [dfLicitacaoTest, dfPessoalTest, dfOutrosTest, dfDespesaTest, dfProcessualTest, dfPrestacaoDeContasTest, dfContratoTest, dfPrevidenciaTest, dfAgentePoliticoTest, dfResponsabilidadeTest]\n",
    "\n",
    "result = pd.concat(framesTrain)\n",
    "resultTest = pd.concat(framesTest)"
   ]
  },
  {
   "cell_type": "code",
   "execution_count": 40,
   "id": "dd6ace89",
   "metadata": {},
   "outputs": [],
   "source": [
    "result.to_csv('decisoes_train.csv', sep=';', encoding='utf-8', index=False)\n",
    "resultTest.to_csv('decisoes_test.csv', sep=';', encoding='utf-8', index=False)"
   ]
  },
  {
   "cell_type": "code",
   "execution_count": null,
   "id": "12a582e6",
   "metadata": {},
   "outputs": [],
   "source": []
  }
 ],
 "metadata": {
  "kernelspec": {
   "display_name": "Python 3",
   "language": "python",
   "name": "python3"
  },
  "language_info": {
   "codemirror_mode": {
    "name": "ipython",
    "version": 3
   },
   "file_extension": ".py",
   "mimetype": "text/x-python",
   "name": "python",
   "nbconvert_exporter": "python",
   "pygments_lexer": "ipython3",
   "version": "3.8.8"
  }
 },
 "nbformat": 4,
 "nbformat_minor": 5
}
