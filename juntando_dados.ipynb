{
 "cells": [
  {
   "cell_type": "code",
   "execution_count": 6,
   "id": "76ae6fec",
   "metadata": {},
   "outputs": [],
   "source": [
    "import numpy as np\n",
    "import pandas as pd\n",
    "import spacy\n",
    "import re\n",
    "from sklearn.model_selection import train_test_split"
   ]
  },
  {
   "cell_type": "code",
   "execution_count": 11,
   "id": "da5e011d",
   "metadata": {},
   "outputs": [
    {
     "data": {
      "text/plain": [
       "LICITACAO              122\n",
       "PESSOAL                118\n",
       "OUTROS                 106\n",
       "DESPESA                 65\n",
       "PROCESSUAL              62\n",
       "PRESTACAO DE CONTAS     46\n",
       "CONTRATO                43\n",
       "PREVIDENCIA             35\n",
       "AGENTE POLITICO         31\n",
       "RESPONSABILIDADE        24\n",
       "Name: assunto_agrupado, dtype: int64"
      ]
     },
     "execution_count": 11,
     "metadata": {},
     "output_type": "execute_result"
    }
   ],
   "source": [
    "data = pd.read_csv (r'C:\\Users\\willy\\Desktop\\TCC_classificador\\dados\\tcepi_decisoes_ate_10_2020.csv', sep=\";\")   \n",
    "df = pd.DataFrame(data, columns= ['ementa','assunto_agrupado'])\n",
    "dfLicitacao = df.loc[df['assunto_agrupado'] == \"LICITACAO\"] \n",
    "dfPessoal = df.loc[df['assunto_agrupado'] == \"PESSOAL\"]\n",
    "dfOutros = df.loc[df['assunto_agrupado'] == \"OUTROS\"]\n",
    "dfDespesa = df.loc[df['assunto_agrupado'] == \"DESPESA\"]\n",
    "dfProcessual = df.loc[df['assunto_agrupado'] == \"PROCESSUAL\"]\n",
    "dfPrestacaoDeContas = df.loc[df['assunto_agrupado'] == \"PRESTACAO DE CONTAS\"]\n",
    "dfContrato = df.loc[df['assunto_agrupado'] == \"CONTRATO\"]\n",
    "dfPrevidencia = df.loc[df['assunto_agrupado'] == \"PREVIDENCIA\"]\n",
    "dfAgentePolitico = df.loc[df['assunto_agrupado'] == \"AGENTE POLITICO\"]\n",
    "dfResponsabilidade = df.loc[df['assunto_agrupado'] == \"RESPONSABILIDADE\"]\n",
    "\n",
    "df['assunto_agrupado'].value_counts()"
   ]
  },
  {
   "cell_type": "code",
   "execution_count": 12,
   "id": "f1f6f40c",
   "metadata": {},
   "outputs": [
    {
     "name": "stdout",
     "output_type": "stream",
     "text": [
      "DESPESA                65\n",
      "PROCESSUAL             62\n",
      "PRESTACAO DE CONTAS    45\n",
      "CONTRATO               43\n",
      "PREVIDENCIA            35\n",
      "AGENTE POLITICO        31\n",
      "RESPONSABILIDADE       24\n",
      "Name: assunto_agrupado, dtype: int64\n"
     ]
    }
   ],
   "source": [
    "dataNovos = pd.read_csv (r'C:\\Users\\willy\\Desktop\\TCC_classificador\\dados\\novas_decisoes.csv', sep=\";\")   \n",
    "df2 = pd.DataFrame(dataNovos, columns= ['ementa','assunto_agrupado'])\n",
    "dfDespesaNovos = df2.loc[df2['assunto_agrupado'] == \"DESPESA\"]\n",
    "dfProcessualNovos = df2.loc[df2['assunto_agrupado'] == \"PROCESSUAL\"]\n",
    "dfPrestacaoDeContasNovos = df2.loc[df2['assunto_agrupado'] == \"PRESTACAO DE CONTAS\"]\n",
    "dfContratoNovos = df2.loc[df2['assunto_agrupado'] == \"CONTRATO\"]\n",
    "dfPrevidenciaNovos = df2.loc[df2['assunto_agrupado'] == \"PREVIDENCIA\"]\n",
    "dfAgentePoliticoNovos = df2.loc[df2['assunto_agrupado'] == \"AGENTE POLITICO\"]\n",
    "dfResponsabilidadeNovos = df2.loc[df2['assunto_agrupado'] == \"RESPONSABILIDADE\"]\n",
    "\n",
    "print(df2['assunto_agrupado'].value_counts())"
   ]
  },
  {
   "cell_type": "code",
   "execution_count": 13,
   "id": "45a7a771",
   "metadata": {},
   "outputs": [],
   "source": [
    "def removerSinaisDePontuacao(textos):\n",
    "    textosLimpos = []\n",
    "    nlp = spacy.load('pt_core_news_lg')\n",
    "    for texto in textos:\n",
    "        texto = re.sub(u'[^a-zA-Z0-9áéíóúÁÉÍÓÚâêîôÂÊÎÔãõÃÕçÇ: ]', ' ', texto)\n",
    "        doc = nlp(texto)\n",
    "        text_aux = []\n",
    "        for token in doc:\n",
    "            if token.is_space == False:\n",
    "                text_aux.append(token.text.lower()) \n",
    "        textosLimpos.append(\" \".join(text_aux))\n",
    "    return textosLimpos"
   ]
  },
  {
   "cell_type": "code",
   "execution_count": 14,
   "id": "95b57be5",
   "metadata": {},
   "outputs": [],
   "source": [
    "licitacoes = removerSinaisDePontuacao(dfLicitacao['ementa'])\n",
    "licitacoesAssuntos = dfLicitacao['assunto_agrupado'].tolist()\n",
    "\n",
    "pessoal = removerSinaisDePontuacao(dfPessoal['ementa'])\n",
    "pessoalAssuntos = dfPessoal['assunto_agrupado'].tolist()\n",
    "\n",
    "outros = removerSinaisDePontuacao(dfOutros['ementa'])\n",
    "outrosAssuntos = dfOutros['assunto_agrupado'].tolist()\n",
    "\n",
    "despesas = removerSinaisDePontuacao(dfDespesa['ementa'])\n",
    "despesasAssuntos = dfDespesa['assunto_agrupado'].tolist()\n",
    "\n",
    "processual = removerSinaisDePontuacao(dfProcessual['ementa'])\n",
    "processualAssuntos = dfProcessual['assunto_agrupado'].tolist()\n",
    "\n",
    "prestacaoDeContas = removerSinaisDePontuacao(dfPrestacaoDeContas['ementa'])\n",
    "prestacaoDeContasAssuntos = dfPrestacaoDeContas['assunto_agrupado'].tolist()\n",
    "\n",
    "contratos = removerSinaisDePontuacao(dfContrato['ementa'])\n",
    "contratoAssuntos = dfContrato['assunto_agrupado'].tolist()\n",
    "\n",
    "previdencia = removerSinaisDePontuacao(dfPrevidencia['ementa'])\n",
    "previdenciaAssuntos = dfPrevidencia['assunto_agrupado'].tolist()\n",
    "\n",
    "responsabilidades = removerSinaisDePontuacao(dfResponsabilidade['ementa'])\n",
    "responsabilidadesAssuntos = dfResponsabilidade['assunto_agrupado'].tolist()\n",
    "\n",
    "agentePolitico = removerSinaisDePontuacao(dfAgentePolitico['ementa'])\n",
    "agentePoliticoAssuntos = dfAgentePolitico['assunto_agrupado'].tolist()"
   ]
  },
  {
   "cell_type": "code",
   "execution_count": 15,
   "id": "5a52fbce",
   "metadata": {},
   "outputs": [],
   "source": [
    "dfLicitacaoSemSinaisDePontuacao = pd.DataFrame(list(zip(licitacoes, licitacoesAssuntos)),\n",
    "               columns = ['ementa', 'assunto_agrupado'])\n",
    "dfPessoalSemSinaisDePontuacao = pd.DataFrame(list(zip(pessoal, pessoalAssuntos)),\n",
    "               columns = ['ementa', 'assunto_agrupado'])\n",
    "dfOutrosSemSinaisDePontuacao = pd.DataFrame(list(zip(outros, outrosAssuntos)),\n",
    "               columns = ['ementa', 'assunto_agrupado'])\n",
    "dfDespesasSemSinaisDePontuacao = pd.DataFrame(list(zip(despesas, despesasAssuntos)),\n",
    "               columns = ['ementa', 'assunto_agrupado'])\n",
    "dfProcessualSemSinaisDePontuacao = pd.DataFrame(list(zip(processual, processualAssuntos)),\n",
    "               columns = ['ementa', 'assunto_agrupado'])\n",
    "dfPrestacaoDeContasSemSinaisDePontuacao = pd.DataFrame(list(zip(prestacaoDeContas, prestacaoDeContasAssuntos)),\n",
    "               columns = ['ementa', 'assunto_agrupado'])\n",
    "dfContratoSemSinaisDePontuacao = pd.DataFrame(list(zip(contratos, contratoAssuntos)),\n",
    "               columns = ['ementa', 'assunto_agrupado'])\n",
    "dfPrevidenciaSemSinaisDePontuacao = pd.DataFrame(list(zip(previdencia, previdenciaAssuntos)),\n",
    "               columns = ['ementa', 'assunto_agrupado'])\n",
    "dfResponsabilidadesSemSinaisDePontuacao = pd.DataFrame(list(zip(responsabilidades, responsabilidadesAssuntos)),\n",
    "               columns = ['ementa', 'assunto_agrupado'])\n",
    "dfAgentePoliticoSemSinaisDePontuacao = pd.DataFrame(list(zip(agentePolitico, agentePoliticoAssuntos)),\n",
    "               columns = ['ementa', 'assunto_agrupado'])"
   ]
  },
  {
   "cell_type": "code",
   "execution_count": 37,
   "id": "e5964245",
   "metadata": {},
   "outputs": [],
   "source": [
    "dfDespesasAgrupadas = [dfDespesasSemSinaisDePontuacao, dfDespesaNovos]\n",
    "dfDespesasAgrupadasParaSeparacao = pd.concat(dfDespesasAgrupadas)\n",
    "\n",
    "dfProcessualAgrupados = [dfProcessualSemSinaisDePontuacao, dfProcessualNovos]\n",
    "dfProcessualAgrupadosParaSeparacao = pd.concat(dfProcessualAgrupados)\n",
    "\n",
    "dfPrestacaoDeContasAgrupadas = [dfPrestacaoDeContasSemSinaisDePontuacao, dfPrestacaoDeContasNovos]\n",
    "dfPrestacaoDeContasAgrupadasParaSeparacao = pd.concat(dfPrestacaoDeContasAgrupadas)\n",
    "\n",
    "dfContratoAgrupados = [dfContratoSemSinaisDePontuacao, dfContratoNovos]\n",
    "dfContratoAgrupadosParaSeparacao = pd.concat(dfContratoAgrupados)\n",
    "\n",
    "dfPrevidenciaAgrupadas = [dfPrevidenciaSemSinaisDePontuacao, dfPrevidenciaNovos]\n",
    "dfPrevidenciaAgrupadasParaSeparacao = pd.concat(dfPrevidenciaAgrupadas)\n",
    "\n",
    "dfAgentePolicoAgrupados = [dfAgentePoliticoSemSinaisDePontuacao, dfAgentePoliticoNovos]\n",
    "dfAgentePolicoAgrupadosParaSeparacao = pd.concat(dfAgentePolicoAgrupados)\n",
    "\n",
    "dfResponsabilidadesAgrupadas = [dfResponsabilidadesSemSinaisDePontuacao, dfResponsabilidadeNovos]\n",
    "dfResponsabilidadesAgrupadasParaSeparacao = pd.concat(dfResponsabilidadesAgrupadas)"
   ]
  },
  {
   "cell_type": "code",
   "execution_count": 47,
   "id": "c5eff333",
   "metadata": {},
   "outputs": [],
   "source": [
    "dfLicitacaoTrain, dfLicitacaoTest = train_test_split(dfLicitacaoSemSinaisDePontuacao, test_size = 0.2, random_state=0)\n",
    "dfPessoalTrain, dfPessoalTest = train_test_split(dfPessoalSemSinaisDePontuacao, test_size = 0.2, random_state=0)\n",
    "dfOutrosTrain, dfOutrosTest = train_test_split(dfOutrosSemSinaisDePontuacao, test_size = 0.2, random_state=0)\n",
    "dfDespesaTrain, dfDespesaTest = train_test_split(dfDespesasAgrupadasParaSeparacao, test_size = 0.2, random_state=0)\n",
    "dfProcessualTrain, dfProcessualTest = train_test_split(dfProcessualAgrupadosParaSeparacao, test_size = 0.2, random_state=0)\n",
    "dfPrestacaoDeContasTrain, dfPrestacaoDeContasTest = train_test_split(dfPrestacaoDeContasAgrupadasParaSeparacao, test_size = 0.2, random_state=0)\n",
    "dfContratoTrain, dfContratoTest = train_test_split(dfContratoAgrupadosParaSeparacao, test_size = 0.2, random_state=0)\n",
    "dfPrevidenciaTrain, dfPrevidenciaTest = train_test_split(dfPrevidenciaAgrupadasParaSeparacao, test_size = 0.2, random_state=0)\n",
    "dfAgentePoliticoTrain, dfAgentePoliticoTest = train_test_split( dfAgentePolicoAgrupadosParaSeparacao, test_size = 0.2, random_state=0)\n",
    "dfResponsabilidadeTrain, dfResponsabilidadeTest = train_test_split(dfResponsabilidadesAgrupadasParaSeparacao, test_size = 0.2, random_state=0)"
   ]
  },
  {
   "cell_type": "code",
   "execution_count": 42,
   "id": "59048d7a",
   "metadata": {},
   "outputs": [
    {
     "name": "stdout",
     "output_type": "stream",
     "text": [
      "                                                ementa  assunto_agrupado\n",
      "11   prestação de contas não remanescência de ocorr...  RESPONSABILIDADE\n",
      "257  intempestividade no envio das prestações de co...  RESPONSABILIDADE\n",
      "259  representação inadimplência com as documentaçõ...  RESPONSABILIDADE\n",
      "253  prestação de contas despesas com multas e juro...  RESPONSABILIDADE\n",
      "273  representação contratação de empresa proibida ...  RESPONSABILIDADE\n",
      "2    controle interno da prefeitura sublocação de v...  RESPONSABILIDADE\n",
      "272  ementa responsabilidade inadimplência junto el...  RESPONSABILIDADE\n",
      "18   denuncia suposta irregularidade referente ao n...  RESPONSABILIDADE\n",
      "15   pedido de revisão ausência de parcelamento da ...  RESPONSABILIDADE\n",
      "254  auditoria de obras e serviços de engenharia ir...  RESPONSABILIDADE\n",
      "22   ementa responsabilidade inadimplência junto el...  RESPONSABILIDADE\n",
      "16   tomada de contas especial ocorrência de falhas...  RESPONSABILIDADE\n",
      "267  prestação de contas irregularidades em licitaç...  RESPONSABILIDADE\n",
      "20   processual reexame de admissão provimento parc...  RESPONSABILIDADE\n",
      "268  denuncia suposta irregularidade referente ao n...  RESPONSABILIDADE\n",
      "8    denúncia descumprimento a determinação do trib...  RESPONSABILIDADE\n",
      "13   recurso de reconsideração prestação de contas ...  RESPONSABILIDADE\n",
      "251  responsabilidade contratos firmados anteriores...  RESPONSABILIDADE\n",
      "5    tomada de contas especial secretaria de cultur...  RESPONSABILIDADE\n",
      "17   prestação de contas irregularidades em licitaç...  RESPONSABILIDADE\n",
      "261  prestação de contas não remanescência de ocorr...  RESPONSABILIDADE\n",
      "14   prestação de contas prefeitura municipal de si...  RESPONSABILIDADE\n",
      "264  prestação de contas prefeitura municipal de si...  RESPONSABILIDADE\n",
      "1    responsabilidade contratos firmados anteriores...  RESPONSABILIDADE\n",
      "12   licitações e contratos fragmentação de despesa...  RESPONSABILIDADE\n",
      "269  lei de acesso informção lei da tranparência po...  RESPONSABILIDADE\n",
      "250  recurso de reconsideração tomada de contas ses...  RESPONSABILIDADE\n",
      "6    não envio dos dados do sagres folha 13 salário...  RESPONSABILIDADE\n",
      "23   representação contratação de empresa proibida ...  RESPONSABILIDADE\n",
      "262  licitações e contratos fragmentação de despesa...  RESPONSABILIDADE\n",
      "21   pedido de reexame vícios de responsabilidade d...  RESPONSABILIDADE\n",
      "19   lei de acesso informção lei da tranparência po...  RESPONSABILIDADE\n",
      "9    representação inadimplência com as documentaçõ...  RESPONSABILIDADE\n",
      "265  pedido de revisão ausência de parcelamento da ...  RESPONSABILIDADE\n",
      "271  pedido de reexame vícios de responsabilidade d...  RESPONSABILIDADE\n",
      "3    prestação de contas despesas com multas e juro...  RESPONSABILIDADE\n",
      "0    recurso de reconsideração tomada de contas ses...  RESPONSABILIDADE\n",
      "270  processual reexame de admissão provimento parc...  RESPONSABILIDADE\n"
     ]
    }
   ],
   "source": [
    "print(dfResponsabilidadeTrain)"
   ]
  },
  {
   "cell_type": "code",
   "execution_count": 48,
   "id": "c8455516",
   "metadata": {},
   "outputs": [],
   "source": [
    "framesTrain = [dfLicitacaoTrain, dfPessoalTrain, dfOutrosTrain, dfDespesaTrain, dfProcessualTrain, dfPrestacaoDeContasTrain, dfContratoTrain, dfPrevidenciaTrain, dfAgentePoliticoTrain, dfResponsabilidadeTrain]\n",
    "framesTest = [dfLicitacaoTest, dfPessoalTest, dfOutrosTest, dfDespesaTest, dfProcessualTest, dfPrestacaoDeContasTest, dfContratoTest, dfPrevidenciaTest, dfAgentePoliticoTest, dfResponsabilidadeTest]\n",
    "\n",
    "result = pd.concat(framesTrain)\n",
    "resultTest = pd.concat(framesTest)"
   ]
  },
  {
   "cell_type": "code",
   "execution_count": 49,
   "id": "02ee19f1",
   "metadata": {},
   "outputs": [],
   "source": [
    "result.to_csv('./dados/decisoes_com_dados_extras_train.csv', sep=';', encoding='utf-8', index=False)\n",
    "resultTest.to_csv('./dados/decisoes_com_dados_extras_test.csv', sep=';', encoding='utf-8', index=False)"
   ]
  },
  {
   "cell_type": "code",
   "execution_count": null,
   "id": "c716bddb",
   "metadata": {},
   "outputs": [],
   "source": []
  }
 ],
 "metadata": {
  "kernelspec": {
   "display_name": "Python 3",
   "language": "python",
   "name": "python3"
  },
  "language_info": {
   "codemirror_mode": {
    "name": "ipython",
    "version": 3
   },
   "file_extension": ".py",
   "mimetype": "text/x-python",
   "name": "python",
   "nbconvert_exporter": "python",
   "pygments_lexer": "ipython3",
   "version": "3.8.8"
  }
 },
 "nbformat": 4,
 "nbformat_minor": 5
}
