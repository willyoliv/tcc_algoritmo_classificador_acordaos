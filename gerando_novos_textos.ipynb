{
 "cells": [
  {
   "cell_type": "code",
   "execution_count": 35,
   "id": "1432d1b6",
   "metadata": {},
   "outputs": [],
   "source": [
    "import re\n",
    "import spacy\n",
    "import numpy as np\n",
    "import pandas as pd\n",
    "from sklearn.model_selection import train_test_split\n",
    "\n",
    "import nlpaug.augmenter.char as nac\n",
    "import nlpaug.augmenter.word as naw\n",
    "import nlpaug.augmenter.sentence as nas\n",
    "import nlpaug.flow as nafc\n",
    "from nlpaug.util import Action\n",
    "\n",
    "from deep_translator import GoogleTranslator"
   ]
  },
  {
   "cell_type": "code",
   "execution_count": 36,
   "id": "06f0b0bb",
   "metadata": {},
   "outputs": [
    {
     "data": {
      "text/plain": [
       "LICITACAO              122\n",
       "PESSOAL                118\n",
       "OUTROS                 106\n",
       "DESPESA                 65\n",
       "PROCESSUAL              62\n",
       "PRESTACAO DE CONTAS     46\n",
       "CONTRATO                43\n",
       "PREVIDENCIA             35\n",
       "AGENTE POLITICO         31\n",
       "RESPONSABILIDADE        24\n",
       "Name: assunto_agrupado, dtype: int64"
      ]
     },
     "execution_count": 36,
     "metadata": {},
     "output_type": "execute_result"
    }
   ],
   "source": [
    "data = pd.read_csv (r'C:\\Users\\willy\\Desktop\\TCC_classificador\\Dados\\tcepi_decisoes_ate_10_2020.csv', sep=\";\")   \n",
    "df = pd.DataFrame(data, columns= ['ementa','assunto_agrupado'])\n",
    "dfLicitacao = df.loc[df['assunto_agrupado'] == \"LICITACAO\"] \n",
    "dfPessoal = df.loc[df['assunto_agrupado'] == \"PESSOAL\"]\n",
    "dfOutros = df.loc[df['assunto_agrupado'] == \"OUTROS\"]\n",
    "dfDespesa = df.loc[df['assunto_agrupado'] == \"DESPESA\"]\n",
    "dfProcessual = df.loc[df['assunto_agrupado'] == \"PROCESSUAL\"]\n",
    "dfPrestacaoDeContas = df.loc[df['assunto_agrupado'] == \"PRESTACAO DE CONTAS\"]\n",
    "dfContrato = df.loc[df['assunto_agrupado'] == \"CONTRATO\"]\n",
    "dfPrevidencia = df.loc[df['assunto_agrupado'] == \"PREVIDENCIA\"]\n",
    "dfAgentePolitico = df.loc[df['assunto_agrupado'] == \"AGENTE POLITICO\"]\n",
    "dfResponsabilidade = df.loc[df['assunto_agrupado'] == \"RESPONSABILIDADE\"]\n",
    "\n",
    "df['assunto_agrupado'].value_counts()"
   ]
  },
  {
   "cell_type": "code",
   "execution_count": 37,
   "id": "343a401b",
   "metadata": {},
   "outputs": [],
   "source": [
    "def removerSinaisDePontuacao(textos):\n",
    "    textosLimpos = []\n",
    "    nlp = spacy.load('pt_core_news_lg')\n",
    "    for texto in textos:\n",
    "        if(len(texto) <= 5000):\n",
    "            texto = re.sub(u'[^a-zA-Z0-9áéíóúÁÉÍÓÚâêîôÂÊÎÔãõÃÕçÇ: ]', ' ', texto)\n",
    "            doc = nlp(texto)\n",
    "            text_aux = []\n",
    "            for token in doc:\n",
    "                if token.is_space == False:\n",
    "                    text_aux.append(token.text.lower()) \n",
    "            textosLimpos.append(\" \".join(text_aux))\n",
    "    return textosLimpos\n",
    "\n",
    "def traduzirParaIngles(textos):\n",
    "    textosEmIngles = []\n",
    "    for texto in textos:\n",
    "        traducao = GoogleTranslator(source='portuguese', target='english').translate(texto)\n",
    "        textosEmIngles.append(traducao)\n",
    "    return textosEmIngles\n",
    "\n",
    "def traduzirParaPortugues(textos):\n",
    "    textosEmPortugues = []\n",
    "    for texto in textos:\n",
    "        traducao = GoogleTranslator(source='english', target='portuguese').translate(texto)\n",
    "        textosEmPortugues.append(traducao)\n",
    "    return textosEmPortugues\n",
    "\n",
    "def gerarSinonimos(texto):\n",
    "    aug = naw.SynonymAug(aug_src='wordnet')\n",
    "    textoAlterado = aug.augment(texto)\n",
    "    return textoAlterado"
   ]
  },
  {
   "cell_type": "code",
   "execution_count": 38,
   "id": "baf4601a",
   "metadata": {},
   "outputs": [],
   "source": [
    "despesas = removerSinaisDePontuacao(dfDespesa['ementa'])\n",
    "despesasAssuntos = dfDespesa['assunto_agrupado'][:len(despesas)].tolist()\n",
    "\n",
    "processual = removerSinaisDePontuacao(dfProcessual['ementa'])\n",
    "processualAssuntos = dfProcessual['assunto_agrupado'][:len(processual)].tolist()\n",
    "\n",
    "prestacaoDeContas = removerSinaisDePontuacao(dfPrestacaoDeContas['ementa'])\n",
    "prestacaoDeContasAssuntos = dfPrestacaoDeContas['assunto_agrupado'][:len(prestacaoDeContas)].tolist()\n",
    "\n",
    "contratos = removerSinaisDePontuacao(dfContrato['ementa'])\n",
    "contratoAssuntos = dfContrato['assunto_agrupado'][:len(contratos)].tolist()\n",
    "\n",
    "previdencia = removerSinaisDePontuacao(dfPrevidencia['ementa'])\n",
    "previdenciaAssuntos = dfPrevidencia['assunto_agrupado'][:len(previdencia)].tolist()\n",
    "\n",
    "responsabilidades = removerSinaisDePontuacao(dfResponsabilidade['ementa'])\n",
    "responsabilidadesAssuntos = dfResponsabilidade['assunto_agrupado'][:len(responsabilidades)].tolist()\n",
    "\n",
    "agentePolitico = removerSinaisDePontuacao(dfAgentePolitico['ementa'])\n",
    "agentePoliticoAssuntos = dfAgentePolitico['assunto_agrupado'][:len(agentePolitico)].tolist()"
   ]
  },
  {
   "cell_type": "code",
   "execution_count": 39,
   "id": "effc8c1f",
   "metadata": {},
   "outputs": [],
   "source": [
    "ementas = despesas + processual + prestacaoDeContas + contratos + previdencia + responsabilidades + agentePolitico\n",
    "assuntos = despesasAssuntos + processualAssuntos + prestacaoDeContasAssuntos + contratoAssuntos + previdenciaAssuntos + responsabilidadesAssuntos + agentePoliticoAssuntos"
   ]
  },
  {
   "cell_type": "code",
   "execution_count": 40,
   "id": "d260accb",
   "metadata": {},
   "outputs": [
    {
     "name": "stdout",
     "output_type": "stream",
     "text": [
      "prefeitura municipal irregularidades em pagamento de diárias insuficiência no histórico de empenhos procedência parcial da denúncia advertência apensamento 1 a ausência de indícios de pagamento de diárias como complementação salarial ou do desvio de finalidade na sua concessão não possui gravidade suficiente para macular o procedimento licitatório 2 a falta de informações precisas no histórico dos empenhos enseja a procedência da denúncia tendo em vista a relevância desses dados para a efetiva transparência e controle dos gastos públicos\n"
     ]
    }
   ],
   "source": [
    "print(ementas[0])"
   ]
  },
  {
   "cell_type": "code",
   "execution_count": 41,
   "id": "c569372c",
   "metadata": {},
   "outputs": [
    {
     "name": "stdout",
     "output_type": "stream",
     "text": [
      "DESPESA\n"
     ]
    }
   ],
   "source": [
    "print(assuntos[0])"
   ]
  },
  {
   "cell_type": "code",
   "execution_count": 42,
   "id": "578bcf48",
   "metadata": {},
   "outputs": [
    {
     "name": "stdout",
     "output_type": "stream",
     "text": [
      "305\n",
      "305\n"
     ]
    }
   ],
   "source": [
    "print(len(assuntos))\n",
    "print(len(ementas))"
   ]
  },
  {
   "cell_type": "code",
   "execution_count": 45,
   "id": "20cbc28b",
   "metadata": {},
   "outputs": [
    {
     "name": "stdout",
     "output_type": "stream",
     "text": [
      "D\n",
      "P\n",
      "PC\n",
      "C\n",
      "PR\n",
      "A\n",
      "R\n",
      "reconsideration appeal sesapi municipality of são pedro do piauí agreement No. 559 2009 technical assistance project in the organization of the service that integrates the municipal health system in view of the detailed analysis of the records, there is no way to exclude the responsibility and/or penalty of the managers responsible for the conduct that is described in the records there is clearly a deviation from the purpose in which the responsibility must lie with the head of the municipal executive\n"
     ]
    }
   ],
   "source": [
    "despesasEmIngles = traduzirParaIngles(despesas)\n",
    "print(\"D\")\n",
    "processualEmIngles = traduzirParaIngles(processual)\n",
    "print(\"P\")\n",
    "prestacaoDeContasEmIngles = traduzirParaIngles(prestacaoDeContas)\n",
    "print(\"PC\")\n",
    "contratosEmIngles = traduzirParaIngles(contratos)\n",
    "print(\"C\")\n",
    "previdenciaEmIngles = traduzirParaIngles(previdencia)\n",
    "print(\"PR\")\n",
    "agentePoliticoEmIngles = traduzirParaIngles(agentePolitico)\n",
    "print(\"A\")\n",
    "responsabilidadesEmIngles = traduzirParaIngles(responsabilidades)\n",
    "print(\"R\")\n",
    "print(responsabilidadesEmIngles[0])"
   ]
  },
  {
   "cell_type": "code",
   "execution_count": 46,
   "id": "b0e0f286",
   "metadata": {},
   "outputs": [],
   "source": [
    "ementasEmIngles = despesasEmIngles + processualEmIngles + prestacaoDeContasEmIngles + contratosEmIngles + previdenciaEmIngles + responsabilidadesEmIngles + agentePoliticoEmIngles"
   ]
  },
  {
   "cell_type": "code",
   "execution_count": 48,
   "id": "df94db92",
   "metadata": {},
   "outputs": [
    {
     "name": "stdout",
     "output_type": "stream",
     "text": [
      "city ​​hall irregularities in the payment of daily rates insufficiency in the history of commitments partial origin of the complaint warning attachment 1 the absence of evidence of payment of daily rates such as salary supplementation or deviation of purpose in its concession is not sufficiently serious to tarnish the bidding procedure 2 the lack accurate information in the history of the efforts gives rise to the accusation in view of the relevance of these data for the effective transparency and control of public spending\n"
     ]
    }
   ],
   "source": [
    "print(ementasEmIngles[0])"
   ]
  },
  {
   "cell_type": "code",
   "execution_count": 49,
   "id": "a97911a4",
   "metadata": {},
   "outputs": [
    {
     "name": "stdout",
     "output_type": "stream",
     "text": [
      "['recurso de reconsideração sesapi município de são pedro do piauí concord no 559 2009 assistência técnica trabalhista na organização do serviço que integra o sistema municipal de saúde tendo em vista a análise elaborada dos prontuários, não há direcionamento para excluir a responsabilidade e / ou pena dos gestores responsáveis \\u200b\\u200bpela conduta que conste dos autos houver, compreensivelmente, desvio da finalidade em que a responsabilidade deve recair sobre o chefe do diretor executivo municipal', 'contratos de dever assinados direção anterior agora analisada preparação o gestor não é imune para ocorrências não motivadas pelo mesmo e decorrem de contrato previamente assinado', 'controle interno da prefeitura sublocação de veículos sem mandato legal uso de veículos inadequados ao transporte escolar Guerrilha pagamento de despesas com locação de veículos para unidade de fita escolar e atendimento multifacetado fracionamento de despesas cadastramento extemporâneo de dispensa de licitação no sistema licitação web permissão de serviço por terceiros não contratados pela administração, alteração indevida de contrato, efetuando pagamentos sem cobertura contratual, o controlador interno deve ser multado em razão de falhas apontadas na prestação de contas da prefeitura municipal no panorama de sua responsabilidade solidária prevista constitucionalmente', 'despesa de responsabilização com multas e juros por atraso no pagamento das obrigações em relação ao desembolso com multas e juros pelo atraso no pagamento da obrigação, deve-se ressaltar que o gestor tem credibilidade para planejar adequadamente as despesas de acordo com a receita arrecadada na sociedade para invalidar a ocorrência de fatos dessa natureza que causam prejuízo ao erário', 'auditoria de obras e serviços de engenharia irregularidade nos serviços de pavimentação ausência de especificação tecnológica quanto à composição granulométrica da camada asfáltica não conformidade da seção transversal largura da pista executada não conformidade da espessura do pavimento 1 considerando as informações fornecidas pela divisão técnica e concordando com o parecer ministerial entende se pela origem parcial da conta auditada, uma vez que algumas ocorrências foram sanadas ou parcialmente sanadas pelo gestor 2, entende-se que o atual gestor ainda não está sendo multado pois, ao assumir o cargo, apenas deu continuidade ao processo licitatório que deu origem a esta auditoria, bem como tomou as medidas possíveis para corrigir as falhas encontradas', 'seção especial de responsabilidade da cultura do piauí exercício social secult 2019 omissão do dever de prestação de contas convênio n. 075 2017 firmado com a federação piauiense de quadrilhas juninas 1 a cf no trato com recursos públicos inverte o ônus da prova quando imputa ao gestor público ou qualquer pessoa física ou jurídica que passe a administrá-los, arrecadá-los ou gerenciá-los terá o obrigação de comprovar a boa aplicação desses recursos prevista no parágrafo único de seu art.', 'perdedor apresentar dados da folha de sagres 13 salário 1 A não apresentação dos dados necessários é falha porque contraria transparência e publicidade, bem como entrave à fiscalização, cabendo ao gestor comprovar a boa e regular loção do público recursos na forma do disposto no art. crfb 1988 e art 93 do decreto-lei n. cc 67 a ausência de peças ou a falta de envio dos dados necessários caracteriza um defeito e, portanto, sujeita o gestor a sanções legais decorrentes da falha', 'envio intempestivo da resolução de parcelas mensais tce n 09 2014 ausência de partes componentes das prestações de contas mensais resolução tce n 09 2014 falta de envio eletrônico de dados para esta resolução margaret tribunal tce n 09 2014 anormalidade no procedimento de dispensa de licitação art. 24 i da lei n . 8 666 noventa e três compete ao gestor comprovar a boa e regular aplicação do recurso público de acordo com o disposto no art. 70, parágrafo único da crfb 1988 e no art. 93 do decreto jurisprudência n. surgindo', 'reclamação descumprimento constatação de irregularidade do juízo no procedimento licitatório violação dos princípios constitucionais da administração pública princípios da moralidade e da publicidade não foram observados e obedecer 2 não foi publicado procedimento licitatório correto o tribunal determinou uma série de medidas entre as quais a manutenção da suspensão dos contratos a suspensão da emissão de compromissos e pagamentos decorrentes do contrato de comunicação da prefeitura, entre outros, o gestor, porém, não apresentou qualquer comprovação do cumprimento das determinações contidas na sentença a administradora incorrida em manifesto não - cumprimento da decisão deste tribunal o descumprimento do gestor em seguir a determinação deste tce demonstra pouco zelo com o tribunal de contas, merecendo esta reprimenda, é importante destacar que o art. 79 iii da lei 5.888 2009 prescreve que o tribunal deve impor uma multa ao responsável pelo incumprimento cumprimento no prazo estabelecido por diligência ou determinação do tribunal l além disso, a relação dos presentes autos com o processo de saque de contas da administração municipal de pimenteiras de forma que a ocorrência ora tratada tenha um impacto desconfirmativo no ano de 2017 ano financeiro', 'A não-retribuição interna com os componentes de documentação da prestação de contas insulta o mandamento constitucional que impõe o dever de prestar contas a relação dos autos com o processo de relação comercial governamental do chefe do Executivo municipal 5 representação constitui um tipo de processo de fiscalização previsto no artigo 239º em que podem ser utilizados os instrumentos de fiscalização constantes do art. 177 do mesmo diploma legal, sendo que com a autorização do art. 185 ii b, o relator pode proceder à junção do processo ao respectivas contas, portanto, julga que a presente representação se aplica se a multa por incumprimento da obrigação de prestar contas em conformidade e, finalmente, diga respeito às contas do governo do chefe do Executivo municipal', 'prestação de contas sumária da coordenação regional de saúde xiii bom jesus pi exercício de 2017 irregularidades na formalização de contratos irregularidade na inexigibilidade de procedimento licitatório na contratação de consultoria contábil ausência de cópias dos contratos firmados com o prestador de serviço ausência do núcleo de controle interno 1 a ausência de publicação do contrato no Diário Oficial da União não é motivo de nulidade de todos os atos praticados, porém é imprescindível que o diretor publique imediatamente o reajuste 2 não é pelo simples fato de ser atividade técnica profissional especializada como é o caso da assessoria técnica contábil que a tornasse um serviço único, a singularidade do serviço será avaliada em cada caso concreto 3 em violação do art. 38 inciso x da lei n. falha porque remove a hipótese deste tribunal analisar tempestivamente o contrato 4 contrário ao art. 74 do cf 88 art 90 of ce decreto estadual n 11 434 2004 decreto n xvii 526 17 e instrução normativa tce pi n 05 17 de 16 10 17 financeiro ou pessoal limitações não isentam o gerente do dever inerente de instalar o controle interno', 'responsabilização por não permanência grave ocorrida após o processo contencioso, ausência de dano à tesouraria, morte do gestor, perdendo remanescente após o processo contencioso, não enseja julgamento de irregularidade, tendo em vista o falecimento do gestor, a imposição de a multa não se deve ao atraso no envio da documentação referente ao período de sua gestão', 'licitações e contratos fragmentação de despesas de pessoal contratação temporária de professor irregularidade na publicação de contrato administrativo de segurança social demora na cobrança de obrigações irregularidade no registro de informações no sagres tce pi sistema de inadimplência com a Eletrobrás e agepisa 1 irregularidades em licitações e contratos com dados marchas festas de equipamentos e homenagens manutenção da rede de abastecimento de água fragmentação dos gastos com equipamentos hidráulicos e manutenção de bombas em desacordo com a lei de licitações n. 8 666 93 2 contratação de instrutor sem observância dos preceitos legais não houve validação da realização de processo seletivo simplificado para atendimento temporário de demanda de pessoal municipal até a finalização do concurso público, nos termos do art. 37 incisos ii e ix da cf 88 3 pagamento de juros e multas por atraso na cobrança de obrigações o gestor não pode ser responsabilizado pelo pagamento de juros e multas, visto que apenas gera dinheiros públicos para que a falta de recursos financeiros para o pagamento de determinadas contas não tenha sido intencionalmente ou falta', 'Recurso de reconsideração fms accountability contratação temporária de profissionais de saúde sem escoamento de requisitos legais impossibilidade de nova contratação devido ao período eleitoral necessidade de manter a continuidade dos programas federais de boa-fé do gestor i apesar do reconhecimento da irregularidade constatar durante o processo de responsabilização a atuação do ex-dirigente foi amparado pelo princípio da legalidade edificado, observado o disposto no art. 73 da Lei nº. 9 504 97 de modo que no curto período de sua gestão não se baralhou como corrigir uma situação irregular consolidada ao longo das administrações anteriores 2 em razão da não apresentação de novos elementos no tribunal de recurso, informática entende-se pela razoabilidade do julgamento entrado no julgamento aleijado de que não aplicou uma multa de gestão', 'prestação de contas prefeitura municipal de simplício mendes contas do governo ano fiscal 2015 aguardar entrega da prestação de contas mensal faltantes exigidas pela resolução tce n 09 2014 atraso na entrega da prestação de contas anual descumprimento do limite mínimo constitucional com despesas de manutenção e desenvolvimento de ensino divergência das demonstrações financeiras incompletas no extrato da dívida flutuante 1 o envio apenas em defesa prejudica a análise das contas do município de acordo com a resolução tce pin 09 2014 o envio deve ser eletrônico através do sistema de documentação web em relação ao extrato simplificado do relatório sumário da execução orçamental apesar da possibilidade de envio semestral em consulta com o sistema de documentação web 2015 simplício mendes 2 semestre não houve envio electrónico do referido extracto 2 relativo ao não cumprimento do limite de gastos com manutenção e desenvolvimento de departamentos t da educação sabe-se que este tribunal de contas já se manifestou em algumas ocasiões no sentido de considerar tanto a despesa como a receita ocorridas no próprio exercício do pagamento, o que serviria no presente caso para elevar o índice para o exercício de 2015 e reduzir o índice do exercício de 2014 que passaria a ser de apenas 23 50, interferindo assim na prestação de contas do exercício anterior, já devidamente processada e julgada, portanto, ainda que aplicássemos esse entendimento no presente processo , a inadimplência ficaria sem remediação tendo em vista que o índice de despesas com o mde só subiria para 24 9 no ano de 2015 ainda é inferior ao limite mínimo estabelecido pela Constituição 3 por fim, tendo em vista que após o contencioso permaneceram faltas relacionadas a atrasos no envio da prestação de contas, será aplicada a multa automática com base nos arts. 79 vii e viii da lei 5.888 09 cc art 206 inciso viii do ritce com valor a ser calculado pela secretaria das sessões por dia de adiamento nos termos do art. 3º da instrução normativa tce pi n 05 2014', 'pedido de revisão ausência de custeio parcelado da dívida previdenciária não cabendo ao chefe do Executivo aquele que compõe o saldo orçamentário ao chefe do Executivo para encaminhar projeto de lei à Câmara Municipal solicitando o vencimento da parcela. a previdência mede o débito na forma legal, afastando a priori qualquer responsabilidade do gestor do rpps 2 o dever de remeter o balanço geral e a prestação de contas anual do fundo municipal de previdência social é de responsabilidade do gestor do poder executivo', 'tendo especialmente em conta as falhas na tramitação e fiscalização dos referidos contratos, bem como na execução, reincidência dos factos, multa ao secretário por falta de escolha do nexo de causalidade e dano ao tesouro apurado os factos identificados os responsáveis \\u200b\\u200be quantificados os a indemnização aplica-se se as sanções previstas: imputação de dívida no montante correspondente ao valor actualizado do dano à tesouraria quantificado na tomada de contas especiais aplicação de sanção de desqualificação para recebimento de fundos públicos ao gestor responsável, sendo o impedimento extensiva a qualquer entidade que a presida ou que a tenha em sua diretoria ou estatuto social nos termos do art. 77 iii da lei n. 5 888 09 e art. 210 ii e iii do estatuto deste tribunal, nos termos do art. 79 inciso i da lei n. 5 888 09 cc art 260 i e ii do estatuto deste tribunal aplica-se multa quando se verificar a reincidência de escolhas de atitude da parte que caracterizou culpa de informática no eligendo. no caso, há injustiça na escolha de entidade sem capacidade técnica para realizar a regularização, bem como negligência na atuação ativa no cumprimento de sua função de fiscalização, quando não for possível comprovar o nexo de causalidade entre qualquer conduta e o dano decorrente da não execução do contrato determina se a exclusão de responsabilidade', 'prestação de contas interlinguística irregularidades nas licitações e mofo contratual do vagão comprovam a realização da licitação que subsidiou a contratação visando a legalidade da despesa com a própria publicação contendo os elementos contidos na instrução normativa nº 03 2015 tricloroetano pi', 'denuncia alegada irregularidade geométrica relativa ao não pagamento de rendimentos de trabalhadores terceirizados de atividade, no exercício de controle externo, não é competente para atuar na salvaguarda dos direitos trabalhistas dos empregados de empresa terceirizadora de mão de obra. responsabilidade dos gestores e organizadores de despesas 1 os tribunais estaduais no exercício do controle externo não têm jurisdição para agir no sentido de salvaguardar os direitos trabalhistas dos empregados de uma empresa terceirizadora de mão de obra. trabalho e que não há informação no processo de que o estado tenha sido chamado a responder em uma ação militar trabalhista envolva contratos de terceirização do SASC, não há necessidade de falar sobre a responsabilidade do gestor e dos encarregados de despesas', 'lei de acesso entropia lei de transparência transparência portal prefeitura avelino lopes origem ás o prefeito deve comprovar a este juízo as alterações no site da cidade a fim de adequar e atualizar o dito site de acordo com a disciplina lei complementar n. cento e um 2000 em especial o artigo 48 caput da referida lei da pele de carneiro n. 12 527 2011 artigo 8 e declaração normativa n. 03 2015 sob pena de multa e outro montante aplicável 2 comunicação ao procurador do distrito', 'acompanhamento processual de entree parcial provisão com exclusão de multa 1, não cabendo a possibilidade de especificar se a recorrente contribuiu para as lacunas apontadas no processo reconhecer se a elisão da o.k. aplicado a ele', 'pedido de reexame vício de responsabilidade do diretor executivo atrasado planejamento para que não haja maneira de atribuir ao atual gestor vícios no aviso de concurso iniciado e concluído no ano anterior', 'Inadimplemento de responsabilidade civil com irregularidade geométrica da Eletrobrás i O parcelamento de dívidas não impede que repercuta nas contas do gestor público', 'agência contratação de empresa proibida de contratar com demissão governamental 1 É dever do gestor, personagem que lhe foi reservado de guardião do interesse público e do patrimônio, ser o mais cauteloso possível na hora de contratar, para que o faça não formalizar parcerias com empresas proibidas de contratar com a ciência política, a suspensão de pagamentos e a não realização de novas despesas com a empresa tão logo receba a recomendação deste tribunal de contas, tem competência para remediar parcialmente a referida ocorrência .']\n"
     ]
    }
   ],
   "source": [
    "despesasSinonimos = []\n",
    "processualSinonimos = []\n",
    "prestacaoDeContasSinonimos = []\n",
    "contratosSinonimos = []\n",
    "previdenciaSinonimos = []\n",
    "agentePoliticoSinonimos = []\n",
    "responsabilidadesSinonimos = []\n",
    "\n",
    "for texto in despesasEmIngles:\n",
    "    despesasSinonimos.append(gerarSinonimos(texto))\n",
    "    \n",
    "for texto in processualEmIngles:\n",
    "    processualSinonimos.append(gerarSinonimos(texto))\n",
    "    \n",
    "for texto in prestacaoDeContasEmIngles:\n",
    "    prestacaoDeContasSinonimos.append(gerarSinonimos(texto))\n",
    "    \n",
    "for texto in contratosEmIngles:\n",
    "    contratosSinonimos.append(gerarSinonimos(texto))\n",
    "    \n",
    "for texto in previdenciaEmIngles:\n",
    "    previdenciaSinonimos.append(gerarSinonimos(texto))\n",
    "    \n",
    "for texto in agentePoliticoEmIngles:\n",
    "    agentePoliticoSinonimos.append(gerarSinonimos(texto))\n",
    "    \n",
    "for texto in responsabilidadesEmIngles:\n",
    "    responsabilidadesSinonimos.append(gerarSinonimos(texto))\n",
    "    \n",
    "novasDespesas = traduzirParaPortugues(despesasSinonimos)\n",
    "novasProcessual = traduzirParaPortugues(processualSinonimos)\n",
    "novasPrestacaoDeContas = traduzirParaPortugues(prestacaoDeContasSinonimos)\n",
    "novosContratos = traduzirParaPortugues(contratosSinonimos)\n",
    "novasPrevidencias = traduzirParaPortugues(previdenciaSinonimos)\n",
    "novosAgentesPoliticos = traduzirParaPortugues(agentePoliticoSinonimos)\n",
    "novasResponsabilidades = traduzirParaPortugues(responsabilidadesSinonimos)\n",
    "\n",
    "print(novasResponsabilidades)"
   ]
  },
  {
   "cell_type": "code",
   "execution_count": 50,
   "id": "7f1fd16b",
   "metadata": {},
   "outputs": [],
   "source": [
    "novasEmentasEmIngles = despesasSinonimos + processualSinonimos + prestacaoDeContasSinonimos + contratosSinonimos + previdenciaSinonimos + responsabilidadesSinonimos + agentePoliticoSinonimos\n",
    "novasEmentas = novasDespesas + novasProcessual + novasPrestacaoDeContas + novosContratos + novasPrevidencias + novasResponsabilidades + novosAgentesPoliticos"
   ]
  },
  {
   "cell_type": "code",
   "execution_count": 51,
   "id": "7adc51e8",
   "metadata": {},
   "outputs": [
    {
     "name": "stdout",
     "output_type": "stream",
     "text": [
      "305\n",
      "305\n",
      "305\n",
      "305\n",
      "305\n"
     ]
    }
   ],
   "source": [
    "print(len(ementas))\n",
    "print(len(ementasEmIngles))\n",
    "print(len(novasEmentasEmIngles))\n",
    "print(len(novasEmentas))\n",
    "print(len(assuntos))"
   ]
  },
  {
   "cell_type": "code",
   "execution_count": 52,
   "id": "bb7985b8",
   "metadata": {},
   "outputs": [],
   "source": [
    "dataFrame = pd.DataFrame(list(zip(ementas, ementasEmIngles, novasEmentasEmIngles, novasEmentas, assuntos)),\n",
    "               columns =['ementa', 'ementa_em_ingles', 'nova_ementa_em_ingles', 'nova_ementa','assunto_agrupado'])"
   ]
  },
  {
   "cell_type": "code",
   "execution_count": 53,
   "id": "eac147b2",
   "metadata": {},
   "outputs": [],
   "source": [
    "dataFrame.to_excel(\"./dados/novas_decisoes.xlsx\")  \n",
    "dataFrame.to_csv('./dados/novas_decisoes.csv', sep=';', encoding='utf-8', index=False)"
   ]
  },
  {
   "cell_type": "code",
   "execution_count": null,
   "id": "eaaf26d9",
   "metadata": {},
   "outputs": [],
   "source": []
  }
 ],
 "metadata": {
  "kernelspec": {
   "display_name": "Python 3",
   "language": "python",
   "name": "python3"
  },
  "language_info": {
   "codemirror_mode": {
    "name": "ipython",
    "version": 3
   },
   "file_extension": ".py",
   "mimetype": "text/x-python",
   "name": "python",
   "nbconvert_exporter": "python",
   "pygments_lexer": "ipython3",
   "version": "3.8.8"
  }
 },
 "nbformat": 4,
 "nbformat_minor": 5
}
